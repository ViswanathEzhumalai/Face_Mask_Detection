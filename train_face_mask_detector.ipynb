
# Google Colab Notebook: Train Face Mask Detection Model

# Step 1: Mount Google Drive
from google.colab import drive
drive.mount('/content/drive')

# Step 2: Install Required Libraries
!pip install tensorflow opencv-python-headless numpy

# Step 3: Import Required Libraries
import os
import numpy as np
import cv2
from tensorflow.keras.models import Sequential
from tensorflow.keras.layers import Conv2D, MaxPooling2D, Flatten, Dense, Dropout
from tensorflow.keras.preprocessing.image import ImageDataGenerator

# Step 4: Dataset Preparation
# Ensure your dataset is uploaded to Google Drive and organized as:
# /content/drive/MyDrive/dataset/
# - train/
#   - WithMask/
#   - WithoutMask/
# - validation/
#   - WithMask/
#   - WithoutMask/

data_dir = '/content/drive/MyDrive/dataset'
train_dir = os.path.join(data_dir, 'train')
validation_dir = os.path.join(data_dir, 'validation')

# Step 5: Data Augmentation
train_datagen = ImageDataGenerator(rescale=1./255)
validation_datagen = ImageDataGenerator(rescale=1./255)

train_generator = train_datagen.flow_from_directory(
    train_dir,
    target_size=(100, 100),
    batch_size=32,
    class_mode='binary'
)

validation_generator = validation_datagen.flow_from_directory(
    validation_dir,
    target_size=(100, 100),
    batch_size=32,
    class_mode='binary'
)

# Step 6: Build the Model
model = Sequential([
    Conv2D(32, (3, 3), activation='relu', input_shape=(100, 100, 3)),
    MaxPooling2D(pool_size=(2, 2)),
    Conv2D(64, (3, 3), activation='relu'),
    MaxPooling2D(pool_size=(2, 2)),
    Flatten(),
    Dense(128, activation='relu'),
    Dropout(0.5),
    Dense(1, activation='sigmoid')
])

model.compile(optimizer='adam', loss='binary_crossentropy', metrics=['accuracy'])

# Step 7: Train the Model
model.fit(train_generator, epochs=10, validation_data=validation_generator)

# Step 8: Save the Model
model.save('/content/drive/MyDrive/face_mask_detector.h5')

print("Model saved to Google Drive as face_mask_detector.h5")
